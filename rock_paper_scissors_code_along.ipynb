{
 "cells": [
  {
   "cell_type": "markdown",
   "metadata": {},
   "source": [
    "# Rock Paper Scissors Code Along\n",
    "\n",
    "![sean_o'connel_vs_anthony_perosh](https://lh3.googleusercontent.com/proxy/F2TyK7gQMUfZWNhniISasSABttouVeJvAiC93jYWVVjdS5yGLX24EcGuVdZqZMiVDPiNzNXLZDU9pyeKn_NBHDVBI0NYWLzb5Jvg5Wsry3lk0iONwhNhQWuXsxAJjnC_olcTEeI \"Sean O'Connel vs Anthony Perosh, UFC\")\n",
    "\n",
    "## Objective\n",
    "\n",
    "This notebook is to provide a code along for creating rock, paper, scissors game in python. In this project following concepts will be covered. <br>\n",
    "\n",
    "- Using built-in `input` function to communicate with a user\n",
    "- Create logics to validate input\n",
    "- Use python's `random` libraries\n",
    "- Practice while loops and if statements\n",
    "- Organize code by making functions\n",
    "- Practice object oriented programming\n",
    "\n",
    "## Author\n",
    "- [Yung Han Jeong](https://github.com/yunghanjeong/rockpaperscissors) "
   ]
  },
  {
   "cell_type": "markdown",
   "metadata": {},
   "source": [
    "## User Input\n",
    "\n",
    "Prompting a user for an input in python can be done with the built-in function, `input`. Try running the cell below."
   ]
  },
  {
   "cell_type": "code",
   "execution_count": null,
   "metadata": {
    "scrolled": true
   },
   "outputs": [],
   "source": [
    "# run the cell, provide some input, press enter. The cell will display the input\n",
    "# the input can also be saved into a variable\n",
    "user_input = input(\"type something here: \")\n",
    "# run this cell to confirm the correct storage of variable\n",
    "print(\"your input was: \", user_input)"
   ]
  },
  {
   "cell_type": "markdown",
   "metadata": {},
   "source": [
    "As seen above the input function asks the user and ask for an input. You can pass a string in the `input()` function to add a prompt. The input function will also store the value directly and we can chain a method relevant to the data type we are expecting. We can test this out with a string method `upper()` with the input function. Run the cell below for example."
   ]
  },
  {
   "cell_type": "code",
   "execution_count": null,
   "metadata": {},
   "outputs": [],
   "source": [
    "# type something in lower case\n",
    "user_input = input(\"type something in lower case here: \").upper()\n",
    "print(\"your input was: \", user_input)"
   ]
  },
  {
   "cell_type": "markdown",
   "metadata": {},
   "source": [
    "If you run the cell above, but provide a numeric value as an input python will automatically skip the `upper()` method since that is not a method found within `int` for `float` data types. This will be useful later, because processing the input by chaining a method allows us to keep the user input consistent. We don't need to account for varying capitalization."
   ]
  },
  {
   "cell_type": "markdown",
   "metadata": {},
   "source": [
    "## Checking Against a List\n",
    "\n",
    "Now that we can ask the user for their input let's start building the logic to validate the user input. Since this is a game of rock, paper, scissors we only have to deal with 3 valid input types. You can build a series of `if/elif` statements to check for the value, but python provides with a fantastic operator called `in`. This will allow us to check a value against a list of values. Run the cell below for a demonstration"
   ]
  },
  {
   "cell_type": "code",
   "execution_count": null,
   "metadata": {},
   "outputs": [],
   "source": [
    "print(1 in [1, 2, 3])\n",
    "print(12 in [11, 13, 14])\n",
    "print(\"hello\" in [\"hello\", \"world\"])"
   ]
  },
  {
   "cell_type": "markdown",
   "metadata": {},
   "source": [
    "The `in` operator can also be combined with `not` operator."
   ]
  },
  {
   "cell_type": "code",
   "execution_count": null,
   "metadata": {},
   "outputs": [],
   "source": [
    "print(\"python\" not in [\"hello\", \"world\"])"
   ]
  },
  {
   "cell_type": "markdown",
   "metadata": {},
   "source": [
    "## Building Input Validation\n",
    "\n",
    "Now we are ready to build the logic for user input validation. We want to build a logic that will prompt the user for rock, paper, or scissors. Then, we would want to check the input against a list of valid inputs. If the input is not valid, prompt the user until a valid response is given. Since this should run continuously a `while` loop should be utilized rather than an `if` statement."
   ]
  },
  {
   "cell_type": "code",
   "execution_count": null,
   "metadata": {},
   "outputs": [],
   "source": [
    "# build a list of valid input\n",
    "\n",
    "# initialize a user input that is a blank strings\n",
    "\n",
    "# create a while loop which asks for a valid response\n"
   ]
  },
  {
   "cell_type": "code",
   "execution_count": null,
   "metadata": {},
   "outputs": [],
   "source": [
    "# uncomment below to run a provide solution\n",
    "\n",
    "# choices = [\"rock\", \"paper\", \"scissors\"] #list of valid inputs\n",
    "# player_input = \"\" #blank initialization\n",
    "\n",
    "# while player_input not in choices: #while the proper choice is not provide, this will run at least once by default\n",
    "#     player_input = input(\"Rock, Paper, or Scissors? \").lower() #ask for input"
   ]
  },
  {
   "cell_type": "markdown",
   "metadata": {},
   "source": [
    "## Saving the Logic\n",
    "\n",
    "Once the logic building is complete, it's alwaysa a good idea to save the logic in a function. This will allow us to utilize the logic again by calling the fuction. You can define a function with `def` and providing a name followed with necessary arguments. This function in particular does not require any arguments, but we will `return` the user input.\n",
    "\n",
    "**NOTE** Initialize the user input and valid input list as the local variable of the function!"
   ]
  },
  {
   "cell_type": "code",
   "execution_count": null,
   "metadata": {},
   "outputs": [],
   "source": [
    "# build a function using the logic built above\n",
    "# write the function with no arguments and return the user input\n"
   ]
  },
  {
   "cell_type": "code",
   "execution_count": 47,
   "metadata": {
    "scrolled": true
   },
   "outputs": [],
   "source": [
    "# uncomment below to run a provided solution\n",
    "\n",
    "# # function\n",
    "# def user_selection():\n",
    "#     player_input = \"\" #initialize user input\n",
    "#     valid_selection = [\"rock\", \"paper\", \"scissors\"] #initialize valid input list\n",
    "#     while player_input not in valid_selection: \n",
    "#         player_input = input(\"Rock, Paper, or Scissors? \").lower()\n",
    "#     return player_input"
   ]
  },
  {
   "cell_type": "markdown",
   "metadata": {},
   "source": [
    "***"
   ]
  },
  {
   "cell_type": "markdown",
   "metadata": {},
   "source": [
    "## Random Library and Computer's Selection\n",
    "\n",
    "Unfortunately, you can't program a computer to select a true random value. However, python has a `random` library that simulates a random selection. To pick a value from a list we can use the `.choice()` method. Run the cell below for example."
   ]
  },
  {
   "cell_type": "code",
   "execution_count": 31,
   "metadata": {},
   "outputs": [
    {
     "name": "stdout",
     "output_type": "stream",
     "text": [
      "2\n"
     ]
    }
   ],
   "source": [
    "# try running this cell multiple times!\n",
    "import random\n",
    "print(random.choice([1,2,3]))"
   ]
  },
  {
   "cell_type": "markdown",
   "metadata": {},
   "source": [
    "Now we can utilize this method to simulate a computer choosing their rock, paper, or scissors. Try this with a valid input list you've built above."
   ]
  },
  {
   "cell_type": "code",
   "execution_count": null,
   "metadata": {},
   "outputs": [],
   "source": [
    "# using the random.choice() function, make the computer select a value from the valid input list"
   ]
  },
  {
   "cell_type": "markdown",
   "metadata": {},
   "source": [
    "## Comparing the Result\n",
    "\n",
    "![rock-paper-scissors game](https://upload.wikimedia.org/wikipedia/commons/thumb/6/67/Rock-paper-scissors.svg/220px-Rock-paper-scissors.svg.png)\n",
    "\n",
    "There are total 7 outcomes in a game of rock paper scissors. There are 3 ways to win, 3 ways to lose, and 1 way to tie. Technically there are 3 ways to tie, but we can combine all ties into a single comparison logic. There are only limited case of logic check, so this is a perfect candidate for `if` statements. Remember that you can chain if statements with `elif` statements. If you need a refresher, run the cell below. "
   ]
  },
  {
   "cell_type": "code",
   "execution_count": 35,
   "metadata": {
    "scrolled": true
   },
   "outputs": [
    {
     "name": "stdout",
     "output_type": "stream",
     "text": [
      "The number is:  3\n"
     ]
    }
   ],
   "source": [
    "# run this multiple times to see different results\n",
    "the_number = 3 # the answer\n",
    "list_num = [0, 1, 2, 3, 4, 5] # the choices\n",
    "\n",
    "# to chain multiple if statements, use elif\n",
    "if the_number == random.choice(list_num):\n",
    "    print(\"The number is: \", the_number)\n",
    "elif the_number > random.choice(list_num):\n",
    "    print(\"The number is greater than our guess\")\n",
    "else:\n",
    "    print(\"the number is lower than our guess\")"
   ]
  },
  {
   "cell_type": "markdown",
   "metadata": {},
   "source": [
    "Now let's try building the logic, which compares the computer's choice against the user choice. Remember that we built a function asking for user's choice above and can utilize that. Now this should start to resemble a game!"
   ]
  },
  {
   "cell_type": "code",
   "execution_count": 36,
   "metadata": {},
   "outputs": [],
   "source": [
    "# call the player input function above and store the input into a variable\n",
    "\n",
    "# save a computer's random selection into a variable\n",
    "\n",
    "# build if/elif statements to check for who won the game. Announce the result using print statements. "
   ]
  },
  {
   "cell_type": "code",
   "execution_count": 49,
   "metadata": {},
   "outputs": [],
   "source": [
    "# uncomment below to run a provided solution.\n",
    "# Make sure to uncomment and run other solutions above to ensure that this runs properly!\n",
    "\n",
    "# import random #this is redudant, but repeated for safety\n",
    "\n",
    "# valid_selection = [\"rock\", \"paper\", \"scissors\"]\n",
    "# user_input = user_selection()\n",
    "# computer_selection = random.choice(valid_selection)\n",
    "\n",
    "# print(\"Your Choice: \", user_input.title())\n",
    "# print(\"Computer's Choice: \", computer_selection.title())\n",
    "\n",
    "# if computer_selection == user_input: #draw condition\n",
    "#     print(\"It's a draw!\")\n",
    "# elif computer_selection == \"rock\" and user_input == \"paper\":\n",
    "#     print(\"You win!\")        \n",
    "# elif computer_selection == \"rock\" and user_input == \"scissors\":\n",
    "#     print(\"Computer wins!\")        \n",
    "# elif computer_selection == \"paper\" and user_input == \"scissors\":\n",
    "#     print(\"You win!\")\n",
    "# elif computer_selection == \"paper\" and user_input == \"rock\":\n",
    "#     print(\"Computer wins!\")\n",
    "# elif computer_selection == \"scissors\" and user_input == \"paper\":\n",
    "#     print(\"Computer wins!\")   \n",
    "# elif computer_selection == \"scissors\" and user_input == \"rock\":\n",
    "#     print(\"You win!\")"
   ]
  },
  {
   "cell_type": "markdown",
   "metadata": {},
   "source": [
    "## Saving the Logic (Again!)\n",
    "\n",
    "As it was done before, let's save this logic as a function. This function will have 1 argument, which is the player choice. The function will make the computer choose from a valid input, should be another local variable, "
   ]
  },
  {
   "cell_type": "code",
   "execution_count": null,
   "metadata": {},
   "outputs": [],
   "source": []
  },
  {
   "cell_type": "markdown",
   "metadata": {},
   "source": [
    "## BONUS: Object Oriented Programming\n",
    "\n",
    "Congratulations on finishing the project! As you were following along this notebook and programming this, I hope you were able to spot some redudancies in the coding. You can utilize object oriented programming to overcome some of the redudancies and organize the project by separating your functions and the actual game file. "
   ]
  },
  {
   "cell_type": "markdown",
   "metadata": {},
   "source": [
    "## Reference Implementation\n",
    "\n",
    "Below is a reference for object oriented programming practice of this code. The `rockpaperscissors.py` located in `src` folder contains `game` class, which contains all the functions that have been called. Please check out the `src` folder in the repo for the code reference. "
   ]
  },
  {
   "cell_type": "code",
   "execution_count": null,
   "metadata": {},
   "outputs": [],
   "source": [
    "import os\n",
    "from src.rockpaperscissors import game"
   ]
  },
  {
   "cell_type": "code",
   "execution_count": null,
   "metadata": {},
   "outputs": [],
   "source": [
    "test = game()"
   ]
  },
  {
   "cell_type": "code",
   "execution_count": null,
   "metadata": {},
   "outputs": [],
   "source": [
    "test.yes"
   ]
  },
  {
   "cell_type": "code",
   "execution_count": null,
   "metadata": {},
   "outputs": [],
   "source": []
  }
 ],
 "metadata": {
  "kernelspec": {
   "display_name": "Python 3",
   "language": "python",
   "name": "python3"
  },
  "language_info": {
   "codemirror_mode": {
    "name": "ipython",
    "version": 3
   },
   "file_extension": ".py",
   "mimetype": "text/x-python",
   "name": "python",
   "nbconvert_exporter": "python",
   "pygments_lexer": "ipython3",
   "version": "3.7.1"
  }
 },
 "nbformat": 4,
 "nbformat_minor": 4
}
